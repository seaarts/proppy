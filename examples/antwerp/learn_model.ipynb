{
 "cells": [
  {
   "cell_type": "markdown",
   "metadata": {},
   "source": [
    "# Learning a model LoRaWAN link quality in Antwerp"
   ]
  },
  {
   "cell_type": "code",
   "execution_count": 4,
   "metadata": {},
   "outputs": [],
   "source": [
    "import torch as th\n",
    "import pandas as pd\n",
    "import numpy as np\n",
    "import geopandas as gpd\n",
    "import matplotlib.pyplot as plt"
   ]
  },
  {
   "cell_type": "code",
   "execution_count": 9,
   "metadata": {},
   "outputs": [],
   "source": [
    "# Shortcuts to input data files\n",
    "links_geo_file = \"../../data/antwerp_geodata.csv\"\n",
    "links_file = \"/Users/sander/Desktop/lora-tools/antwerp_links.geojson\"\n",
    "raster_file = \"/Volumes/Transcend/lora/data/antwerp-gis/dsm-1m-clipped.tif\""
   ]
  },
  {
   "cell_type": "code",
   "execution_count": 14,
   "metadata": {},
   "outputs": [
    {
     "name": "stdout",
     "output_type": "stream",
     "text": [
      "Loaded GeoDataFrame of shape (57464, 28).\n",
      "Loaded geo-features DataFrame of shape (57464, 2001).\n"
     ]
    }
   ],
   "source": [
    "# Load links\n",
    "links = gpd.read_file(links_file)\n",
    "print(f\"Loaded GeoDataFrame of shape {links.shape}.\")\n",
    "\n",
    "# Load additional raster-derived data\n",
    "links_geo = pd.read_csv(links_geo_file)\n",
    "print(f\"Loaded geo-features DataFrame of shape {links_geo.shape}.\")"
   ]
  },
  {
   "cell_type": "markdown",
   "metadata": {},
   "source": []
  }
 ],
 "metadata": {
  "kernelspec": {
   "display_name": ".venv",
   "language": "python",
   "name": "python3"
  },
  "language_info": {
   "codemirror_mode": {
    "name": "ipython",
    "version": 3
   },
   "file_extension": ".py",
   "mimetype": "text/x-python",
   "name": "python",
   "nbconvert_exporter": "python",
   "pygments_lexer": "ipython3",
   "version": "3.8.9"
  },
  "orig_nbformat": 4
 },
 "nbformat": 4,
 "nbformat_minor": 2
}
