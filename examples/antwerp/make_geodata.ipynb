{
 "cells": [
  {
   "attachments": {},
   "cell_type": "markdown",
   "metadata": {},
   "source": [
    "# Querying terrain data for LoRaWAN links in Antwerp\n",
    "\n",
    "This notebook uses ``proppy.raster`` to query high-dimensional terrain data for each line-segment.\n",
    "\n",
    "The file uses a dataset of LoRaWAN transmissions in Antwerp, ``antwerp_links.geojson``. These have:\n",
    "- ``GeoPandas.GeoSeries`` data for each line-segment (in UTM coordinates).\n",
    "- Elevation data (in m) for the head and tail of each line-segment.\n",
    "\n",
    "Data is queried from a digital surface model (DSM) raster, in the same coorinate system as the link data.\n"
   ]
  },
  {
   "cell_type": "code",
   "execution_count": 4,
   "metadata": {},
   "outputs": [],
   "source": [
    "# import packages\n",
    "import os\n",
    "import numpy as np\n",
    "import pandas as pd\n",
    "import geopandas as gpd\n",
    "import contextily as cx\n",
    "import xarray as xr\n",
    "from functools import partial\n",
    "from multiprocessing import Pool\n",
    "from time import perf_counter\n",
    "\n",
    "import matplotlib.pyplot as plt\n",
    "\n",
    "import proppy.raster as prs"
   ]
  },
  {
   "cell_type": "code",
   "execution_count": 10,
   "metadata": {},
   "outputs": [],
   "source": [
    "# input data files\n",
    "linksfile = '../../data/antwerp/antwerp_test.geojson'\n",
    "rasterfile = \"/Volumes/Transcend/lora/data/antwerp-gis/dsm-1m-clipped.tif\"  # `proppy_data/antwerp_dsm_1m_tif`"
   ]
  },
  {
   "cell_type": "code",
   "execution_count": 11,
   "metadata": {},
   "outputs": [
    {
     "name": "stdout",
     "output_type": "stream",
     "text": [
      "Loaded links of shape (97332, 17).\n",
      "Binary outcomes are:\n",
      "False    89352\n",
      "True      7980\n",
      "Name: success, dtype: int64\n"
     ]
    }
   ],
   "source": [
    "# Load link data\n",
    "links = gpd.read_file(linksfile)\n",
    "\n",
    "links = links.rename(columns = {'ele_tx': 'zhead', 'ele_gw':'ztail'})\n",
    "\n",
    "print(f\"Loaded links of shape {links.shape}.\")\n",
    "\n",
    "print(\"Binary outcomes are:\")\n",
    "print(links['success'].value_counts())"
   ]
  },
  {
   "cell_type": "code",
   "execution_count": 77,
   "metadata": {},
   "outputs": [],
   "source": [
    "def load_and_process(links, rasterfile, savedir, rel_buffer=0.1,\n",
    "                     ncols=100, nrows=20, maxsize=None\n",
    "                     ):\n",
    "    \"\"\"Equip links with geodata from raster.\"\"\"    \n",
    "\n",
    "    links = links.reset_index(drop=True)\n",
    "    \n",
    "    # Verify presence of necessary columns\n",
    "    linkcols = set(links.columns)\n",
    "\n",
    "    if 'geometry' not in linkcols:\n",
    "        raise ValueError(\"Provided `linksfile` must have a `geometry`-column.\")\n",
    "    \n",
    "    if 'zhead' not in linkcols:\n",
    "        raise ValueError(\"Provided `linksfile` must have  a `zhead`-column.\")\n",
    "    \n",
    "    if 'ztail' not in linkcols:\n",
    "        raise ValueError(\"Provided `linksfile` must have  a `ztail`-column.\")\n",
    "\n",
    "    # Collect relevant columns\n",
    "    lines = links.geometry[:maxsize]\n",
    "    zheads, ztails = links[\"zhead\"].values[:maxsize], links[\"ztail\"].values[:maxsize]\n",
    "\n",
    "    # Compute rectangle features\n",
    "    rectangles = prs.make_rectangles(lines, zheads, ztails, relative_buffer=rel_buffer)\n",
    "\n",
    "    # Main \"loop\" using multiprocessing\n",
    "    fun_kwargs = {\"nrows\": nrows, \"ncols\": ncols, \"rasterfile\": rasterfile, \"savedir\": savedir}\n",
    "\n",
    "    t_start = perf_counter()  # time run\n",
    "\n",
    "    if maxsize is None:\n",
    "        maxsize = len(rectangles)\n",
    "\n",
    "    # use multiprocessing\n",
    "    with Pool() as p:\n",
    "        out = p.map(\n",
    "            partial(prs.save_raster_values, **fun_kwargs), rectangles\n",
    "        )\n",
    "\n",
    "    t_stop = perf_counter()\n",
    "    duration = t_stop - t_start\n",
    "\n",
    "    return "
   ]
  },
  {
   "cell_type": "code",
   "execution_count": 14,
   "metadata": {},
   "outputs": [],
   "source": [
    "# set query dimensions and filenames\n",
    "ncols, nrows = 150, 20\n",
    "rel_buffer = 0.05\n",
    "\n",
    "root = \"../../data/antwerp\"\n",
    "datadir = \"example\""
   ]
  },
  {
   "cell_type": "code",
   "execution_count": 78,
   "metadata": {},
   "outputs": [],
   "source": [
    "# Create directory and run query (can take a while)\n",
    "os.makedirs(os.path.join(root, datadir))\n",
    "\n",
    "# process the data\n",
    "load_and_process(\n",
    "    links, rasterfile, os.path.join(root, datadir), maxsize=None, ncols=ncols, nrows=nrows, rel_buffer=rel_buffer\n",
    ")"
   ]
  },
  {
   "cell_type": "markdown",
   "metadata": {},
   "source": [
    "## Visualizing the data"
   ]
  },
  {
   "cell_type": "code",
   "execution_count": 43,
   "metadata": {},
   "outputs": [
    {
     "name": "stdout",
     "output_type": "stream",
     "text": [
      "Selected Rectanlge 0, with data of shape (20, 150).\n"
     ]
    }
   ],
   "source": [
    "# Select one rectanlge\n",
    "idx = 0\n",
    "\n",
    "raster_path = '../../data/antwerp/geodata'\n",
    "\n",
    "vals = np.genfromtxt(f\"{raster_path}/{idx}.csv\", delimiter=\",\")\n",
    "\n",
    "print(f\"Selected Rectanlge {idx}, with data of shape {vals.shape}.\")"
   ]
  },
  {
   "cell_type": "code",
   "execution_count": 44,
   "metadata": {},
   "outputs": [
    {
     "data": {
      "image/png": "[encoded data removed]",
      "text/plain": [
       "<Figure size 1000x100 with 2 Axes>"
      ]
     },
     "metadata": {},
     "output_type": "display_data"
    }
   ],
   "source": [
    "# plot queried data\n",
    "arr = xr.DataArray(vals.flatten().reshape(nrows, ncols), dims=['y', 'x'])\n",
    "\n",
    "arr.plot(cmap='terrain_r', figsize=(10, 1));"
   ]
  }
 ],
 "metadata": {
  "kernelspec": {
   "display_name": ".venv",
   "language": "python",
   "name": "python3"
  },
  "language_info": {
   "codemirror_mode": {
    "name": "ipython",
    "version": 3
   },
   "file_extension": ".py",
   "mimetype": "text/x-python",
   "name": "python",
   "nbconvert_exporter": "python",
   "pygments_lexer": "ipython3",
   "version": "3.8.9"
  },
  "orig_nbformat": 4
 },
 "nbformat": 4,
 "nbformat_minor": 2
}
