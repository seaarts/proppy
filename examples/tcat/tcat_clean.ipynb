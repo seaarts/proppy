{
 "cells": [
  {
   "cell_type": "markdown",
   "id": "fa3142c4-061b-4fb7-9ea6-fc73117a803a",
   "metadata": {},
   "source": [
    "# Preprocessing TCAT LoRaWAN transmission data"
   ]
  },
  {
   "cell_type": "code",
   "execution_count": 1,
   "id": "61b2fd80-6d89-4d16-8352-a2d23f21aae9",
   "metadata": {},
   "outputs": [],
   "source": [
    "import os\n",
    "import json\n",
    "import numpy as np\n",
    "import pandas as pd\n",
    "import geopandas as gpd\n",
    "import shapely as shp\n",
    "import contextily as cx\n",
    "import matplotlib.pyplot as plt\n",
    "from shapely.geometry import box"
   ]
  },
  {
   "cell_type": "code",
   "execution_count": 2,
   "id": "b90b9c98-cd31-4520-9a3b-5a2686a52b8f",
   "metadata": {},
   "outputs": [],
   "source": [
    "# Set coorinate references\n",
    "base = \"EPSG:4326\"  # Base system for lat, lon\n",
    "web = \"EPSG:3857\"   # Web Mercator for plotting\n",
    "utm = \"EPSG:26918\"  # Tompkins County, NY"
   ]
  },
  {
   "cell_type": "code",
   "execution_count": 5,
   "id": "ca5d3a51-a6ca-4568-91d3-7f571b4726fb",
   "metadata": {},
   "outputs": [
    {
     "name": "stdout",
     "output_type": "stream",
     "text": [
      "Loaded files in 'data/raw/':\n",
      "loc12112021_01_feather_crossbar.json\n",
      "loc04112021_1_in_with_short_antenna.json\n",
      "tcat_buses_1.json\n",
      "loc03112021_1.json\n",
      "loc04112021_2_in_with_longer_antenna.json\n",
      "loc12112021_00_feather.json\n"
     ]
    }
   ],
   "source": [
    "# Load raw data from given directory\n",
    "data_location  = \"data/raw/\"\n",
    "\n",
    "data_files = os.listdir(data_location)\n",
    "\n",
    "print(f\"Loaded files in '{data_location}':\")\n",
    "\n",
    "for file in data_files:\n",
    "    print(f\"{file}\")"
   ]
  },
  {
   "cell_type": "code",
   "execution_count": 6,
   "id": "4ceea8af-056c-4bd7-9756-cee26fbb4093",
   "metadata": {},
   "outputs": [
    {
     "name": "stdout",
     "output_type": "stream",
     "text": [
      "Loaded df with 1280 rows and 4 columns.\n"
     ]
    }
   ],
   "source": [
    "# Read data to pandas DataFrame\n",
    "\n",
    "data_frames = []\n",
    "\n",
    "for file in data_files:\n",
    "    df = pd.read_json(f\"{data_location}{file}\")\n",
    "    df = df.drop(0)\n",
    "    data_frames.append(df)\n",
    "    \n",
    "links = pd.concat(data_frames)\n",
    "\n",
    "print(f\"Loaded df with {links.shape[0]} rows and {links.shape[1]} columns.\")"
   ]
  },
  {
   "cell_type": "code",
   "execution_count": 21,
   "id": "1f709aab-52a5-48ac-ba50-d57ecdbf71ea",
   "metadata": {},
   "outputs": [],
   "source": [
    "df = pd.read_csv('tcat-data-raw.csv')"
   ]
  },
  {
   "cell_type": "code",
   "execution_count": 25,
   "id": "ee61c03b-23a7-458a-9279-939987e66e86",
   "metadata": {},
   "outputs": [
    {
     "data": {
      "text/html": [
       "<div>\n",
       "<style scoped>\n",
       "    .dataframe tbody tr th:only-of-type {\n",
       "        vertical-align: middle;\n",
       "    }\n",
       "\n",
       "    .dataframe tbody tr th {\n",
       "        vertical-align: top;\n",
       "    }\n",
       "\n",
       "    .dataframe thead th {\n",
       "        text-align: right;\n",
       "    }\n",
       "</style>\n",
       "<table border=\"1\" class=\"dataframe\">\n",
       "  <thead>\n",
       "    <tr style=\"text-align: right;\">\n",
       "      <th></th>\n",
       "      <th>time</th>\n",
       "      <th>gps.busID</th>\n",
       "      <th>gps.groundSpeed</th>\n",
       "      <th>gps.latitude</th>\n",
       "      <th>gps.longitude</th>\n",
       "      <th>gps.motionHeading</th>\n",
       "      <th>gps.rx_metadata</th>\n",
       "      <th>gps.speedAccuracy</th>\n",
       "      <th>gps.timestamp</th>\n",
       "    </tr>\n",
       "  </thead>\n",
       "  <tbody>\n",
       "    <tr>\n",
       "      <th>0</th>\n",
       "      <td>2022-06-09T18:43:05.357Z</td>\n",
       "      <td>1</td>\n",
       "      <td>7837</td>\n",
       "      <td>42.438965</td>\n",
       "      <td>-76.501640</td>\n",
       "      <td>173.869125</td>\n",
       "      <td>NaN</td>\n",
       "      <td>536</td>\n",
       "      <td>1654799044</td>\n",
       "    </tr>\n",
       "    <tr>\n",
       "      <th>1</th>\n",
       "      <td>2022-06-09T18:43:32.915Z</td>\n",
       "      <td>1</td>\n",
       "      <td>7837</td>\n",
       "      <td>42.438965</td>\n",
       "      <td>-76.501640</td>\n",
       "      <td>173.869125</td>\n",
       "      <td>NaN</td>\n",
       "      <td>536</td>\n",
       "      <td>1654799044</td>\n",
       "    </tr>\n",
       "    <tr>\n",
       "      <th>2</th>\n",
       "      <td>2022-06-09T19:33:03.703Z</td>\n",
       "      <td>1</td>\n",
       "      <td>369</td>\n",
       "      <td>42.439396</td>\n",
       "      <td>-76.494301</td>\n",
       "      <td>104.787209</td>\n",
       "      <td>NaN</td>\n",
       "      <td>371</td>\n",
       "      <td>1654803183</td>\n",
       "    </tr>\n",
       "    <tr>\n",
       "      <th>3</th>\n",
       "      <td>2022-06-09T20:23:00.752Z</td>\n",
       "      <td>1</td>\n",
       "      <td>8924</td>\n",
       "      <td>42.439129</td>\n",
       "      <td>-76.501770</td>\n",
       "      <td>176.304642</td>\n",
       "      <td>NaN</td>\n",
       "      <td>815</td>\n",
       "      <td>1654806180</td>\n",
       "    </tr>\n",
       "    <tr>\n",
       "      <th>4</th>\n",
       "      <td>2022-06-09T20:23:11.212Z</td>\n",
       "      <td>1</td>\n",
       "      <td>1984</td>\n",
       "      <td>42.438721</td>\n",
       "      <td>-76.501823</td>\n",
       "      <td>194.014786</td>\n",
       "      <td>NaN</td>\n",
       "      <td>868</td>\n",
       "      <td>1654806190</td>\n",
       "    </tr>\n",
       "    <tr>\n",
       "      <th>...</th>\n",
       "      <td>...</td>\n",
       "      <td>...</td>\n",
       "      <td>...</td>\n",
       "      <td>...</td>\n",
       "      <td>...</td>\n",
       "      <td>...</td>\n",
       "      <td>...</td>\n",
       "      <td>...</td>\n",
       "      <td>...</td>\n",
       "    </tr>\n",
       "    <tr>\n",
       "      <th>14575</th>\n",
       "      <td>2022-07-11T15:18:07.235Z</td>\n",
       "      <td>1</td>\n",
       "      <td>138</td>\n",
       "      <td>42.458073</td>\n",
       "      <td>-76.477165</td>\n",
       "      <td>339.131958</td>\n",
       "      <td>[{\"gateway_ids\":{\"gateway_id\":\"ttn-ithaca-00-0...</td>\n",
       "      <td>781</td>\n",
       "      <td>1657552686</td>\n",
       "    </tr>\n",
       "    <tr>\n",
       "      <th>14576</th>\n",
       "      <td>2022-07-11T15:18:28.236Z</td>\n",
       "      <td>1</td>\n",
       "      <td>1613</td>\n",
       "      <td>42.457939</td>\n",
       "      <td>-76.478355</td>\n",
       "      <td>260.489471</td>\n",
       "      <td>[{\"gateway_ids\":{\"gateway_id\":\"ttn-ithaca-00-0...</td>\n",
       "      <td>640</td>\n",
       "      <td>1657552707</td>\n",
       "    </tr>\n",
       "    <tr>\n",
       "      <th>14577</th>\n",
       "      <td>2022-07-11T15:21:48.730Z</td>\n",
       "      <td>1</td>\n",
       "      <td>11509</td>\n",
       "      <td>42.453476</td>\n",
       "      <td>-76.474083</td>\n",
       "      <td>227.755035</td>\n",
       "      <td>[{\"gateway_ids\":{\"gateway_id\":\"ttn-ithaca-00-0...</td>\n",
       "      <td>881</td>\n",
       "      <td>1657552908</td>\n",
       "    </tr>\n",
       "    <tr>\n",
       "      <th>14578</th>\n",
       "      <td>2022-07-11T15:22:42.736Z</td>\n",
       "      <td>1</td>\n",
       "      <td>3581</td>\n",
       "      <td>42.452591</td>\n",
       "      <td>-76.481018</td>\n",
       "      <td>252.706406</td>\n",
       "      <td>[{\"gateway_ids\":{\"gateway_id\":\"ttn-ithaca-00-0...</td>\n",
       "      <td>700</td>\n",
       "      <td>1657552962</td>\n",
       "    </tr>\n",
       "    <tr>\n",
       "      <th>14579</th>\n",
       "      <td>2022-07-11T15:25:22.721Z</td>\n",
       "      <td>1</td>\n",
       "      <td>8465</td>\n",
       "      <td>42.446880</td>\n",
       "      <td>-76.487640</td>\n",
       "      <td>176.223312</td>\n",
       "      <td>[{\"gateway_ids\":{\"gateway_id\":\"ttn-ithaca-00-0...</td>\n",
       "      <td>574</td>\n",
       "      <td>1657553122</td>\n",
       "    </tr>\n",
       "  </tbody>\n",
       "</table>\n",
       "<p>14580 rows × 9 columns</p>\n",
       "</div>"
      ],
      "text/plain": [
       "                           time  gps.busID  gps.groundSpeed  gps.latitude  \\\n",
       "0      2022-06-09T18:43:05.357Z          1             7837     42.438965   \n",
       "1      2022-06-09T18:43:32.915Z          1             7837     42.438965   \n",
       "2      2022-06-09T19:33:03.703Z          1              369     42.439396   \n",
       "3      2022-06-09T20:23:00.752Z          1             8924     42.439129   \n",
       "4      2022-06-09T20:23:11.212Z          1             1984     42.438721   \n",
       "...                         ...        ...              ...           ...   \n",
       "14575  2022-07-11T15:18:07.235Z          1              138     42.458073   \n",
       "14576  2022-07-11T15:18:28.236Z          1             1613     42.457939   \n",
       "14577  2022-07-11T15:21:48.730Z          1            11509     42.453476   \n",
       "14578  2022-07-11T15:22:42.736Z          1             3581     42.452591   \n",
       "14579  2022-07-11T15:25:22.721Z          1             8465     42.446880   \n",
       "\n",
       "       gps.longitude  gps.motionHeading  \\\n",
       "0         -76.501640         173.869125   \n",
       "1         -76.501640         173.869125   \n",
       "2         -76.494301         104.787209   \n",
       "3         -76.501770         176.304642   \n",
       "4         -76.501823         194.014786   \n",
       "...              ...                ...   \n",
       "14575     -76.477165         339.131958   \n",
       "14576     -76.478355         260.489471   \n",
       "14577     -76.474083         227.755035   \n",
       "14578     -76.481018         252.706406   \n",
       "14579     -76.487640         176.223312   \n",
       "\n",
       "                                         gps.rx_metadata  gps.speedAccuracy  \\\n",
       "0                                                    NaN                536   \n",
       "1                                                    NaN                536   \n",
       "2                                                    NaN                371   \n",
       "3                                                    NaN                815   \n",
       "4                                                    NaN                868   \n",
       "...                                                  ...                ...   \n",
       "14575  [{\"gateway_ids\":{\"gateway_id\":\"ttn-ithaca-00-0...                781   \n",
       "14576  [{\"gateway_ids\":{\"gateway_id\":\"ttn-ithaca-00-0...                640   \n",
       "14577  [{\"gateway_ids\":{\"gateway_id\":\"ttn-ithaca-00-0...                881   \n",
       "14578  [{\"gateway_ids\":{\"gateway_id\":\"ttn-ithaca-00-0...                700   \n",
       "14579  [{\"gateway_ids\":{\"gateway_id\":\"ttn-ithaca-00-0...                574   \n",
       "\n",
       "       gps.timestamp  \n",
       "0         1654799044  \n",
       "1         1654799044  \n",
       "2         1654803183  \n",
       "3         1654806180  \n",
       "4         1654806190  \n",
       "...              ...  \n",
       "14575     1657552686  \n",
       "14576     1657552707  \n",
       "14577     1657552908  \n",
       "14578     1657552962  \n",
       "14579     1657553122  \n",
       "\n",
       "[14580 rows x 9 columns]"
      ]
     },
     "execution_count": 25,
     "metadata": {},
     "output_type": "execute_result"
    }
   ],
   "source": [
    "df"
   ]
  },
  {
   "cell_type": "code",
   "execution_count": 24,
   "id": "01d31967-b251-4968-beba-d44a0134cc73",
   "metadata": {},
   "outputs": [
    {
     "ename": "UndefinedVariableError",
     "evalue": "name 'gps' is not defined",
     "output_type": "error",
     "traceback": [
      "\u001b[0;31m---------------------------------------------------------------------------\u001b[0m",
      "\u001b[0;31mKeyError\u001b[0m                                  Traceback (most recent call last)",
      "File \u001b[0;32m~/miniforge3/envs/lora/lib/python3.10/site-packages/pandas/core/computation/scope.py:195\u001b[0m, in \u001b[0;36mScope.resolve\u001b[0;34m(self, key, is_local)\u001b[0m\n\u001b[1;32m    194\u001b[0m \u001b[38;5;28;01mif\u001b[39;00m \u001b[38;5;28mself\u001b[39m\u001b[38;5;241m.\u001b[39mhas_resolvers:\n\u001b[0;32m--> 195\u001b[0m     \u001b[38;5;28;01mreturn\u001b[39;00m \u001b[38;5;28;43mself\u001b[39;49m\u001b[38;5;241;43m.\u001b[39;49m\u001b[43mresolvers\u001b[49m\u001b[43m[\u001b[49m\u001b[43mkey\u001b[49m\u001b[43m]\u001b[49m\n\u001b[1;32m    197\u001b[0m \u001b[38;5;66;03m# if we're here that means that we have no locals and we also have\u001b[39;00m\n\u001b[1;32m    198\u001b[0m \u001b[38;5;66;03m# no resolvers\u001b[39;00m\n",
      "File \u001b[0;32m~/miniforge3/envs/lora/lib/python3.10/collections/__init__.py:986\u001b[0m, in \u001b[0;36mChainMap.__getitem__\u001b[0;34m(self, key)\u001b[0m\n\u001b[1;32m    985\u001b[0m         \u001b[38;5;28;01mpass\u001b[39;00m\n\u001b[0;32m--> 986\u001b[0m \u001b[38;5;28;01mreturn\u001b[39;00m \u001b[38;5;28;43mself\u001b[39;49m\u001b[38;5;241;43m.\u001b[39;49m\u001b[38;5;21;43m__missing__\u001b[39;49m\u001b[43m(\u001b[49m\u001b[43mkey\u001b[49m\u001b[43m)\u001b[49m\n",
      "File \u001b[0;32m~/miniforge3/envs/lora/lib/python3.10/collections/__init__.py:978\u001b[0m, in \u001b[0;36mChainMap.__missing__\u001b[0;34m(self, key)\u001b[0m\n\u001b[1;32m    977\u001b[0m \u001b[38;5;28;01mdef\u001b[39;00m \u001b[38;5;21m__missing__\u001b[39m(\u001b[38;5;28mself\u001b[39m, key):\n\u001b[0;32m--> 978\u001b[0m     \u001b[38;5;28;01mraise\u001b[39;00m \u001b[38;5;167;01mKeyError\u001b[39;00m(key)\n",
      "\u001b[0;31mKeyError\u001b[0m: 'gps'",
      "\nDuring handling of the above exception, another exception occurred:\n",
      "\u001b[0;31mKeyError\u001b[0m                                  Traceback (most recent call last)",
      "File \u001b[0;32m~/miniforge3/envs/lora/lib/python3.10/site-packages/pandas/core/computation/scope.py:206\u001b[0m, in \u001b[0;36mScope.resolve\u001b[0;34m(self, key, is_local)\u001b[0m\n\u001b[1;32m    202\u001b[0m \u001b[38;5;28;01mtry\u001b[39;00m:\n\u001b[1;32m    203\u001b[0m     \u001b[38;5;66;03m# last ditch effort we look in temporaries\u001b[39;00m\n\u001b[1;32m    204\u001b[0m     \u001b[38;5;66;03m# these are created when parsing indexing expressions\u001b[39;00m\n\u001b[1;32m    205\u001b[0m     \u001b[38;5;66;03m# e.g., df[df > 0]\u001b[39;00m\n\u001b[0;32m--> 206\u001b[0m     \u001b[38;5;28;01mreturn\u001b[39;00m \u001b[38;5;28;43mself\u001b[39;49m\u001b[38;5;241;43m.\u001b[39;49m\u001b[43mtemps\u001b[49m\u001b[43m[\u001b[49m\u001b[43mkey\u001b[49m\u001b[43m]\u001b[49m\n\u001b[1;32m    207\u001b[0m \u001b[38;5;28;01mexcept\u001b[39;00m \u001b[38;5;167;01mKeyError\u001b[39;00m \u001b[38;5;28;01mas\u001b[39;00m err:\n\u001b[1;32m    208\u001b[0m     \u001b[38;5;66;03m# runtime import because ops imports from scope\u001b[39;00m\n",
      "\u001b[0;31mKeyError\u001b[0m: 'gps'",
      "\nThe above exception was the direct cause of the following exception:\n",
      "\u001b[0;31mUndefinedVariableError\u001b[0m                    Traceback (most recent call last)",
      "Input \u001b[0;32mIn [24]\u001b[0m, in \u001b[0;36m<cell line: 1>\u001b[0;34m()\u001b[0m\n\u001b[0;32m----> 1\u001b[0m \u001b[43mdf\u001b[49m\u001b[38;5;241;43m.\u001b[39;49m\u001b[43mquery\u001b[49m\u001b[43m(\u001b[49m\u001b[38;5;124;43m\"\u001b[39;49m\u001b[38;5;124;43mgps.rx_metadata.notna()\u001b[39;49m\u001b[38;5;124;43m\"\u001b[39;49m\u001b[43m)\u001b[49m\u001b[38;5;241m.\u001b[39mshape\n",
      "File \u001b[0;32m~/miniforge3/envs/lora/lib/python3.10/site-packages/pandas/core/frame.py:4111\u001b[0m, in \u001b[0;36mDataFrame.query\u001b[0;34m(self, expr, inplace, **kwargs)\u001b[0m\n\u001b[1;32m   4109\u001b[0m kwargs[\u001b[38;5;124m\"\u001b[39m\u001b[38;5;124mlevel\u001b[39m\u001b[38;5;124m\"\u001b[39m] \u001b[38;5;241m=\u001b[39m kwargs\u001b[38;5;241m.\u001b[39mpop(\u001b[38;5;124m\"\u001b[39m\u001b[38;5;124mlevel\u001b[39m\u001b[38;5;124m\"\u001b[39m, \u001b[38;5;241m0\u001b[39m) \u001b[38;5;241m+\u001b[39m \u001b[38;5;241m1\u001b[39m\n\u001b[1;32m   4110\u001b[0m kwargs[\u001b[38;5;124m\"\u001b[39m\u001b[38;5;124mtarget\u001b[39m\u001b[38;5;124m\"\u001b[39m] \u001b[38;5;241m=\u001b[39m \u001b[38;5;28;01mNone\u001b[39;00m\n\u001b[0;32m-> 4111\u001b[0m res \u001b[38;5;241m=\u001b[39m \u001b[38;5;28;43mself\u001b[39;49m\u001b[38;5;241;43m.\u001b[39;49m\u001b[43meval\u001b[49m\u001b[43m(\u001b[49m\u001b[43mexpr\u001b[49m\u001b[43m,\u001b[49m\u001b[43m \u001b[49m\u001b[38;5;241;43m*\u001b[39;49m\u001b[38;5;241;43m*\u001b[39;49m\u001b[43mkwargs\u001b[49m\u001b[43m)\u001b[49m\n\u001b[1;32m   4113\u001b[0m \u001b[38;5;28;01mtry\u001b[39;00m:\n\u001b[1;32m   4114\u001b[0m     result \u001b[38;5;241m=\u001b[39m \u001b[38;5;28mself\u001b[39m\u001b[38;5;241m.\u001b[39mloc[res]\n",
      "File \u001b[0;32m~/miniforge3/envs/lora/lib/python3.10/site-packages/pandas/core/frame.py:4240\u001b[0m, in \u001b[0;36mDataFrame.eval\u001b[0;34m(self, expr, inplace, **kwargs)\u001b[0m\n\u001b[1;32m   4237\u001b[0m     kwargs[\u001b[38;5;124m\"\u001b[39m\u001b[38;5;124mtarget\u001b[39m\u001b[38;5;124m\"\u001b[39m] \u001b[38;5;241m=\u001b[39m \u001b[38;5;28mself\u001b[39m\n\u001b[1;32m   4238\u001b[0m kwargs[\u001b[38;5;124m\"\u001b[39m\u001b[38;5;124mresolvers\u001b[39m\u001b[38;5;124m\"\u001b[39m] \u001b[38;5;241m=\u001b[39m \u001b[38;5;28mtuple\u001b[39m(kwargs\u001b[38;5;241m.\u001b[39mget(\u001b[38;5;124m\"\u001b[39m\u001b[38;5;124mresolvers\u001b[39m\u001b[38;5;124m\"\u001b[39m, ())) \u001b[38;5;241m+\u001b[39m resolvers\n\u001b[0;32m-> 4240\u001b[0m \u001b[38;5;28;01mreturn\u001b[39;00m \u001b[43m_eval\u001b[49m\u001b[43m(\u001b[49m\u001b[43mexpr\u001b[49m\u001b[43m,\u001b[49m\u001b[43m \u001b[49m\u001b[43minplace\u001b[49m\u001b[38;5;241;43m=\u001b[39;49m\u001b[43minplace\u001b[49m\u001b[43m,\u001b[49m\u001b[43m \u001b[49m\u001b[38;5;241;43m*\u001b[39;49m\u001b[38;5;241;43m*\u001b[39;49m\u001b[43mkwargs\u001b[49m\u001b[43m)\u001b[49m\n",
      "File \u001b[0;32m~/miniforge3/envs/lora/lib/python3.10/site-packages/pandas/core/computation/eval.py:350\u001b[0m, in \u001b[0;36meval\u001b[0;34m(expr, parser, engine, truediv, local_dict, global_dict, resolvers, level, target, inplace)\u001b[0m\n\u001b[1;32m    341\u001b[0m \u001b[38;5;66;03m# get our (possibly passed-in) scope\u001b[39;00m\n\u001b[1;32m    342\u001b[0m env \u001b[38;5;241m=\u001b[39m ensure_scope(\n\u001b[1;32m    343\u001b[0m     level \u001b[38;5;241m+\u001b[39m \u001b[38;5;241m1\u001b[39m,\n\u001b[1;32m    344\u001b[0m     global_dict\u001b[38;5;241m=\u001b[39mglobal_dict,\n\u001b[0;32m   (...)\u001b[0m\n\u001b[1;32m    347\u001b[0m     target\u001b[38;5;241m=\u001b[39mtarget,\n\u001b[1;32m    348\u001b[0m )\n\u001b[0;32m--> 350\u001b[0m parsed_expr \u001b[38;5;241m=\u001b[39m \u001b[43mExpr\u001b[49m\u001b[43m(\u001b[49m\u001b[43mexpr\u001b[49m\u001b[43m,\u001b[49m\u001b[43m \u001b[49m\u001b[43mengine\u001b[49m\u001b[38;5;241;43m=\u001b[39;49m\u001b[43mengine\u001b[49m\u001b[43m,\u001b[49m\u001b[43m \u001b[49m\u001b[43mparser\u001b[49m\u001b[38;5;241;43m=\u001b[39;49m\u001b[43mparser\u001b[49m\u001b[43m,\u001b[49m\u001b[43m \u001b[49m\u001b[43menv\u001b[49m\u001b[38;5;241;43m=\u001b[39;49m\u001b[43menv\u001b[49m\u001b[43m)\u001b[49m\n\u001b[1;32m    352\u001b[0m \u001b[38;5;66;03m# construct the engine and evaluate the parsed expression\u001b[39;00m\n\u001b[1;32m    353\u001b[0m eng \u001b[38;5;241m=\u001b[39m ENGINES[engine]\n",
      "File \u001b[0;32m~/miniforge3/envs/lora/lib/python3.10/site-packages/pandas/core/computation/expr.py:811\u001b[0m, in \u001b[0;36mExpr.__init__\u001b[0;34m(self, expr, engine, parser, env, level)\u001b[0m\n\u001b[1;32m    809\u001b[0m \u001b[38;5;28mself\u001b[39m\u001b[38;5;241m.\u001b[39mparser \u001b[38;5;241m=\u001b[39m parser\n\u001b[1;32m    810\u001b[0m \u001b[38;5;28mself\u001b[39m\u001b[38;5;241m.\u001b[39m_visitor \u001b[38;5;241m=\u001b[39m PARSERS[parser](\u001b[38;5;28mself\u001b[39m\u001b[38;5;241m.\u001b[39menv, \u001b[38;5;28mself\u001b[39m\u001b[38;5;241m.\u001b[39mengine, \u001b[38;5;28mself\u001b[39m\u001b[38;5;241m.\u001b[39mparser)\n\u001b[0;32m--> 811\u001b[0m \u001b[38;5;28mself\u001b[39m\u001b[38;5;241m.\u001b[39mterms \u001b[38;5;241m=\u001b[39m \u001b[38;5;28;43mself\u001b[39;49m\u001b[38;5;241;43m.\u001b[39;49m\u001b[43mparse\u001b[49m\u001b[43m(\u001b[49m\u001b[43m)\u001b[49m\n",
      "File \u001b[0;32m~/miniforge3/envs/lora/lib/python3.10/site-packages/pandas/core/computation/expr.py:830\u001b[0m, in \u001b[0;36mExpr.parse\u001b[0;34m(self)\u001b[0m\n\u001b[1;32m    826\u001b[0m \u001b[38;5;28;01mdef\u001b[39;00m \u001b[38;5;21mparse\u001b[39m(\u001b[38;5;28mself\u001b[39m):\n\u001b[1;32m    827\u001b[0m     \u001b[38;5;124;03m\"\"\"\u001b[39;00m\n\u001b[1;32m    828\u001b[0m \u001b[38;5;124;03m    Parse an expression.\u001b[39;00m\n\u001b[1;32m    829\u001b[0m \u001b[38;5;124;03m    \"\"\"\u001b[39;00m\n\u001b[0;32m--> 830\u001b[0m     \u001b[38;5;28;01mreturn\u001b[39;00m \u001b[38;5;28;43mself\u001b[39;49m\u001b[38;5;241;43m.\u001b[39;49m\u001b[43m_visitor\u001b[49m\u001b[38;5;241;43m.\u001b[39;49m\u001b[43mvisit\u001b[49m\u001b[43m(\u001b[49m\u001b[38;5;28;43mself\u001b[39;49m\u001b[38;5;241;43m.\u001b[39;49m\u001b[43mexpr\u001b[49m\u001b[43m)\u001b[49m\n",
      "File \u001b[0;32m~/miniforge3/envs/lora/lib/python3.10/site-packages/pandas/core/computation/expr.py:415\u001b[0m, in \u001b[0;36mBaseExprVisitor.visit\u001b[0;34m(self, node, **kwargs)\u001b[0m\n\u001b[1;32m    413\u001b[0m method \u001b[38;5;241m=\u001b[39m \u001b[38;5;124m\"\u001b[39m\u001b[38;5;124mvisit_\u001b[39m\u001b[38;5;124m\"\u001b[39m \u001b[38;5;241m+\u001b[39m \u001b[38;5;28mtype\u001b[39m(node)\u001b[38;5;241m.\u001b[39m\u001b[38;5;18m__name__\u001b[39m\n\u001b[1;32m    414\u001b[0m visitor \u001b[38;5;241m=\u001b[39m \u001b[38;5;28mgetattr\u001b[39m(\u001b[38;5;28mself\u001b[39m, method)\n\u001b[0;32m--> 415\u001b[0m \u001b[38;5;28;01mreturn\u001b[39;00m \u001b[43mvisitor\u001b[49m\u001b[43m(\u001b[49m\u001b[43mnode\u001b[49m\u001b[43m,\u001b[49m\u001b[43m \u001b[49m\u001b[38;5;241;43m*\u001b[39;49m\u001b[38;5;241;43m*\u001b[39;49m\u001b[43mkwargs\u001b[49m\u001b[43m)\u001b[49m\n",
      "File \u001b[0;32m~/miniforge3/envs/lora/lib/python3.10/site-packages/pandas/core/computation/expr.py:421\u001b[0m, in \u001b[0;36mBaseExprVisitor.visit_Module\u001b[0;34m(self, node, **kwargs)\u001b[0m\n\u001b[1;32m    419\u001b[0m     \u001b[38;5;28;01mraise\u001b[39;00m \u001b[38;5;167;01mSyntaxError\u001b[39;00m(\u001b[38;5;124m\"\u001b[39m\u001b[38;5;124monly a single expression is allowed\u001b[39m\u001b[38;5;124m\"\u001b[39m)\n\u001b[1;32m    420\u001b[0m expr \u001b[38;5;241m=\u001b[39m node\u001b[38;5;241m.\u001b[39mbody[\u001b[38;5;241m0\u001b[39m]\n\u001b[0;32m--> 421\u001b[0m \u001b[38;5;28;01mreturn\u001b[39;00m \u001b[38;5;28;43mself\u001b[39;49m\u001b[38;5;241;43m.\u001b[39;49m\u001b[43mvisit\u001b[49m\u001b[43m(\u001b[49m\u001b[43mexpr\u001b[49m\u001b[43m,\u001b[49m\u001b[43m \u001b[49m\u001b[38;5;241;43m*\u001b[39;49m\u001b[38;5;241;43m*\u001b[39;49m\u001b[43mkwargs\u001b[49m\u001b[43m)\u001b[49m\n",
      "File \u001b[0;32m~/miniforge3/envs/lora/lib/python3.10/site-packages/pandas/core/computation/expr.py:415\u001b[0m, in \u001b[0;36mBaseExprVisitor.visit\u001b[0;34m(self, node, **kwargs)\u001b[0m\n\u001b[1;32m    413\u001b[0m method \u001b[38;5;241m=\u001b[39m \u001b[38;5;124m\"\u001b[39m\u001b[38;5;124mvisit_\u001b[39m\u001b[38;5;124m\"\u001b[39m \u001b[38;5;241m+\u001b[39m \u001b[38;5;28mtype\u001b[39m(node)\u001b[38;5;241m.\u001b[39m\u001b[38;5;18m__name__\u001b[39m\n\u001b[1;32m    414\u001b[0m visitor \u001b[38;5;241m=\u001b[39m \u001b[38;5;28mgetattr\u001b[39m(\u001b[38;5;28mself\u001b[39m, method)\n\u001b[0;32m--> 415\u001b[0m \u001b[38;5;28;01mreturn\u001b[39;00m \u001b[43mvisitor\u001b[49m\u001b[43m(\u001b[49m\u001b[43mnode\u001b[49m\u001b[43m,\u001b[49m\u001b[43m \u001b[49m\u001b[38;5;241;43m*\u001b[39;49m\u001b[38;5;241;43m*\u001b[39;49m\u001b[43mkwargs\u001b[49m\u001b[43m)\u001b[49m\n",
      "File \u001b[0;32m~/miniforge3/envs/lora/lib/python3.10/site-packages/pandas/core/computation/expr.py:424\u001b[0m, in \u001b[0;36mBaseExprVisitor.visit_Expr\u001b[0;34m(self, node, **kwargs)\u001b[0m\n\u001b[1;32m    423\u001b[0m \u001b[38;5;28;01mdef\u001b[39;00m \u001b[38;5;21mvisit_Expr\u001b[39m(\u001b[38;5;28mself\u001b[39m, node, \u001b[38;5;241m*\u001b[39m\u001b[38;5;241m*\u001b[39mkwargs):\n\u001b[0;32m--> 424\u001b[0m     \u001b[38;5;28;01mreturn\u001b[39;00m \u001b[38;5;28;43mself\u001b[39;49m\u001b[38;5;241;43m.\u001b[39;49m\u001b[43mvisit\u001b[49m\u001b[43m(\u001b[49m\u001b[43mnode\u001b[49m\u001b[38;5;241;43m.\u001b[39;49m\u001b[43mvalue\u001b[49m\u001b[43m,\u001b[49m\u001b[43m \u001b[49m\u001b[38;5;241;43m*\u001b[39;49m\u001b[38;5;241;43m*\u001b[39;49m\u001b[43mkwargs\u001b[49m\u001b[43m)\u001b[49m\n",
      "File \u001b[0;32m~/miniforge3/envs/lora/lib/python3.10/site-packages/pandas/core/computation/expr.py:415\u001b[0m, in \u001b[0;36mBaseExprVisitor.visit\u001b[0;34m(self, node, **kwargs)\u001b[0m\n\u001b[1;32m    413\u001b[0m method \u001b[38;5;241m=\u001b[39m \u001b[38;5;124m\"\u001b[39m\u001b[38;5;124mvisit_\u001b[39m\u001b[38;5;124m\"\u001b[39m \u001b[38;5;241m+\u001b[39m \u001b[38;5;28mtype\u001b[39m(node)\u001b[38;5;241m.\u001b[39m\u001b[38;5;18m__name__\u001b[39m\n\u001b[1;32m    414\u001b[0m visitor \u001b[38;5;241m=\u001b[39m \u001b[38;5;28mgetattr\u001b[39m(\u001b[38;5;28mself\u001b[39m, method)\n\u001b[0;32m--> 415\u001b[0m \u001b[38;5;28;01mreturn\u001b[39;00m \u001b[43mvisitor\u001b[49m\u001b[43m(\u001b[49m\u001b[43mnode\u001b[49m\u001b[43m,\u001b[49m\u001b[43m \u001b[49m\u001b[38;5;241;43m*\u001b[39;49m\u001b[38;5;241;43m*\u001b[39;49m\u001b[43mkwargs\u001b[49m\u001b[43m)\u001b[49m\n",
      "File \u001b[0;32m~/miniforge3/envs/lora/lib/python3.10/site-packages/pandas/core/computation/expr.py:661\u001b[0m, in \u001b[0;36mBaseExprVisitor.visit_Call\u001b[0;34m(self, node, side, **kwargs)\u001b[0m\n\u001b[1;32m    658\u001b[0m \u001b[38;5;28;01mdef\u001b[39;00m \u001b[38;5;21mvisit_Call\u001b[39m(\u001b[38;5;28mself\u001b[39m, node, side\u001b[38;5;241m=\u001b[39m\u001b[38;5;28;01mNone\u001b[39;00m, \u001b[38;5;241m*\u001b[39m\u001b[38;5;241m*\u001b[39mkwargs):\n\u001b[1;32m    660\u001b[0m     \u001b[38;5;28;01mif\u001b[39;00m \u001b[38;5;28misinstance\u001b[39m(node\u001b[38;5;241m.\u001b[39mfunc, ast\u001b[38;5;241m.\u001b[39mAttribute) \u001b[38;5;129;01mand\u001b[39;00m node\u001b[38;5;241m.\u001b[39mfunc\u001b[38;5;241m.\u001b[39mattr \u001b[38;5;241m!=\u001b[39m \u001b[38;5;124m\"\u001b[39m\u001b[38;5;124m__call__\u001b[39m\u001b[38;5;124m\"\u001b[39m:\n\u001b[0;32m--> 661\u001b[0m         res \u001b[38;5;241m=\u001b[39m \u001b[38;5;28;43mself\u001b[39;49m\u001b[38;5;241;43m.\u001b[39;49m\u001b[43mvisit_Attribute\u001b[49m\u001b[43m(\u001b[49m\u001b[43mnode\u001b[49m\u001b[38;5;241;43m.\u001b[39;49m\u001b[43mfunc\u001b[49m\u001b[43m)\u001b[49m\n\u001b[1;32m    662\u001b[0m     \u001b[38;5;28;01melif\u001b[39;00m \u001b[38;5;129;01mnot\u001b[39;00m \u001b[38;5;28misinstance\u001b[39m(node\u001b[38;5;241m.\u001b[39mfunc, ast\u001b[38;5;241m.\u001b[39mName):\n\u001b[1;32m    663\u001b[0m         \u001b[38;5;28;01mraise\u001b[39;00m \u001b[38;5;167;01mTypeError\u001b[39;00m(\u001b[38;5;124m\"\u001b[39m\u001b[38;5;124mOnly named functions are supported\u001b[39m\u001b[38;5;124m\"\u001b[39m)\n",
      "File \u001b[0;32m~/miniforge3/envs/lora/lib/python3.10/site-packages/pandas/core/computation/expr.py:645\u001b[0m, in \u001b[0;36mBaseExprVisitor.visit_Attribute\u001b[0;34m(self, node, **kwargs)\u001b[0m\n\u001b[1;32m    642\u001b[0m ctx \u001b[38;5;241m=\u001b[39m node\u001b[38;5;241m.\u001b[39mctx\n\u001b[1;32m    643\u001b[0m \u001b[38;5;28;01mif\u001b[39;00m \u001b[38;5;28misinstance\u001b[39m(ctx, ast\u001b[38;5;241m.\u001b[39mLoad):\n\u001b[1;32m    644\u001b[0m     \u001b[38;5;66;03m# resolve the value\u001b[39;00m\n\u001b[0;32m--> 645\u001b[0m     resolved \u001b[38;5;241m=\u001b[39m \u001b[38;5;28;43mself\u001b[39;49m\u001b[38;5;241;43m.\u001b[39;49m\u001b[43mvisit\u001b[49m\u001b[43m(\u001b[49m\u001b[43mvalue\u001b[49m\u001b[43m)\u001b[49m\u001b[38;5;241m.\u001b[39mvalue\n\u001b[1;32m    646\u001b[0m     \u001b[38;5;28;01mtry\u001b[39;00m:\n\u001b[1;32m    647\u001b[0m         v \u001b[38;5;241m=\u001b[39m \u001b[38;5;28mgetattr\u001b[39m(resolved, attr)\n",
      "File \u001b[0;32m~/miniforge3/envs/lora/lib/python3.10/site-packages/pandas/core/computation/expr.py:415\u001b[0m, in \u001b[0;36mBaseExprVisitor.visit\u001b[0;34m(self, node, **kwargs)\u001b[0m\n\u001b[1;32m    413\u001b[0m method \u001b[38;5;241m=\u001b[39m \u001b[38;5;124m\"\u001b[39m\u001b[38;5;124mvisit_\u001b[39m\u001b[38;5;124m\"\u001b[39m \u001b[38;5;241m+\u001b[39m \u001b[38;5;28mtype\u001b[39m(node)\u001b[38;5;241m.\u001b[39m\u001b[38;5;18m__name__\u001b[39m\n\u001b[1;32m    414\u001b[0m visitor \u001b[38;5;241m=\u001b[39m \u001b[38;5;28mgetattr\u001b[39m(\u001b[38;5;28mself\u001b[39m, method)\n\u001b[0;32m--> 415\u001b[0m \u001b[38;5;28;01mreturn\u001b[39;00m \u001b[43mvisitor\u001b[49m\u001b[43m(\u001b[49m\u001b[43mnode\u001b[49m\u001b[43m,\u001b[49m\u001b[43m \u001b[49m\u001b[38;5;241;43m*\u001b[39;49m\u001b[38;5;241;43m*\u001b[39;49m\u001b[43mkwargs\u001b[49m\u001b[43m)\u001b[49m\n",
      "File \u001b[0;32m~/miniforge3/envs/lora/lib/python3.10/site-packages/pandas/core/computation/expr.py:645\u001b[0m, in \u001b[0;36mBaseExprVisitor.visit_Attribute\u001b[0;34m(self, node, **kwargs)\u001b[0m\n\u001b[1;32m    642\u001b[0m ctx \u001b[38;5;241m=\u001b[39m node\u001b[38;5;241m.\u001b[39mctx\n\u001b[1;32m    643\u001b[0m \u001b[38;5;28;01mif\u001b[39;00m \u001b[38;5;28misinstance\u001b[39m(ctx, ast\u001b[38;5;241m.\u001b[39mLoad):\n\u001b[1;32m    644\u001b[0m     \u001b[38;5;66;03m# resolve the value\u001b[39;00m\n\u001b[0;32m--> 645\u001b[0m     resolved \u001b[38;5;241m=\u001b[39m \u001b[38;5;28;43mself\u001b[39;49m\u001b[38;5;241;43m.\u001b[39;49m\u001b[43mvisit\u001b[49m\u001b[43m(\u001b[49m\u001b[43mvalue\u001b[49m\u001b[43m)\u001b[49m\u001b[38;5;241m.\u001b[39mvalue\n\u001b[1;32m    646\u001b[0m     \u001b[38;5;28;01mtry\u001b[39;00m:\n\u001b[1;32m    647\u001b[0m         v \u001b[38;5;241m=\u001b[39m \u001b[38;5;28mgetattr\u001b[39m(resolved, attr)\n",
      "File \u001b[0;32m~/miniforge3/envs/lora/lib/python3.10/site-packages/pandas/core/computation/expr.py:415\u001b[0m, in \u001b[0;36mBaseExprVisitor.visit\u001b[0;34m(self, node, **kwargs)\u001b[0m\n\u001b[1;32m    413\u001b[0m method \u001b[38;5;241m=\u001b[39m \u001b[38;5;124m\"\u001b[39m\u001b[38;5;124mvisit_\u001b[39m\u001b[38;5;124m\"\u001b[39m \u001b[38;5;241m+\u001b[39m \u001b[38;5;28mtype\u001b[39m(node)\u001b[38;5;241m.\u001b[39m\u001b[38;5;18m__name__\u001b[39m\n\u001b[1;32m    414\u001b[0m visitor \u001b[38;5;241m=\u001b[39m \u001b[38;5;28mgetattr\u001b[39m(\u001b[38;5;28mself\u001b[39m, method)\n\u001b[0;32m--> 415\u001b[0m \u001b[38;5;28;01mreturn\u001b[39;00m \u001b[43mvisitor\u001b[49m\u001b[43m(\u001b[49m\u001b[43mnode\u001b[49m\u001b[43m,\u001b[49m\u001b[43m \u001b[49m\u001b[38;5;241;43m*\u001b[39;49m\u001b[38;5;241;43m*\u001b[39;49m\u001b[43mkwargs\u001b[49m\u001b[43m)\u001b[49m\n",
      "File \u001b[0;32m~/miniforge3/envs/lora/lib/python3.10/site-packages/pandas/core/computation/expr.py:549\u001b[0m, in \u001b[0;36mBaseExprVisitor.visit_Name\u001b[0;34m(self, node, **kwargs)\u001b[0m\n\u001b[1;32m    548\u001b[0m \u001b[38;5;28;01mdef\u001b[39;00m \u001b[38;5;21mvisit_Name\u001b[39m(\u001b[38;5;28mself\u001b[39m, node, \u001b[38;5;241m*\u001b[39m\u001b[38;5;241m*\u001b[39mkwargs):\n\u001b[0;32m--> 549\u001b[0m     \u001b[38;5;28;01mreturn\u001b[39;00m \u001b[38;5;28;43mself\u001b[39;49m\u001b[38;5;241;43m.\u001b[39;49m\u001b[43mterm_type\u001b[49m\u001b[43m(\u001b[49m\u001b[43mnode\u001b[49m\u001b[38;5;241;43m.\u001b[39;49m\u001b[43mid\u001b[49m\u001b[43m,\u001b[49m\u001b[43m \u001b[49m\u001b[38;5;28;43mself\u001b[39;49m\u001b[38;5;241;43m.\u001b[39;49m\u001b[43menv\u001b[49m\u001b[43m,\u001b[49m\u001b[43m \u001b[49m\u001b[38;5;241;43m*\u001b[39;49m\u001b[38;5;241;43m*\u001b[39;49m\u001b[43mkwargs\u001b[49m\u001b[43m)\u001b[49m\n",
      "File \u001b[0;32m~/miniforge3/envs/lora/lib/python3.10/site-packages/pandas/core/computation/ops.py:98\u001b[0m, in \u001b[0;36mTerm.__init__\u001b[0;34m(self, name, env, side, encoding)\u001b[0m\n\u001b[1;32m     96\u001b[0m tname \u001b[38;5;241m=\u001b[39m \u001b[38;5;28mstr\u001b[39m(name)\n\u001b[1;32m     97\u001b[0m \u001b[38;5;28mself\u001b[39m\u001b[38;5;241m.\u001b[39mis_local \u001b[38;5;241m=\u001b[39m tname\u001b[38;5;241m.\u001b[39mstartswith(LOCAL_TAG) \u001b[38;5;129;01mor\u001b[39;00m tname \u001b[38;5;129;01min\u001b[39;00m DEFAULT_GLOBALS\n\u001b[0;32m---> 98\u001b[0m \u001b[38;5;28mself\u001b[39m\u001b[38;5;241m.\u001b[39m_value \u001b[38;5;241m=\u001b[39m \u001b[38;5;28;43mself\u001b[39;49m\u001b[38;5;241;43m.\u001b[39;49m\u001b[43m_resolve_name\u001b[49m\u001b[43m(\u001b[49m\u001b[43m)\u001b[49m\n\u001b[1;32m     99\u001b[0m \u001b[38;5;28mself\u001b[39m\u001b[38;5;241m.\u001b[39mencoding \u001b[38;5;241m=\u001b[39m encoding\n",
      "File \u001b[0;32m~/miniforge3/envs/lora/lib/python3.10/site-packages/pandas/core/computation/ops.py:115\u001b[0m, in \u001b[0;36mTerm._resolve_name\u001b[0;34m(self)\u001b[0m\n\u001b[1;32m    114\u001b[0m \u001b[38;5;28;01mdef\u001b[39;00m \u001b[38;5;21m_resolve_name\u001b[39m(\u001b[38;5;28mself\u001b[39m):\n\u001b[0;32m--> 115\u001b[0m     res \u001b[38;5;241m=\u001b[39m \u001b[38;5;28;43mself\u001b[39;49m\u001b[38;5;241;43m.\u001b[39;49m\u001b[43menv\u001b[49m\u001b[38;5;241;43m.\u001b[39;49m\u001b[43mresolve\u001b[49m\u001b[43m(\u001b[49m\u001b[38;5;28;43mself\u001b[39;49m\u001b[38;5;241;43m.\u001b[39;49m\u001b[43mlocal_name\u001b[49m\u001b[43m,\u001b[49m\u001b[43m \u001b[49m\u001b[43mis_local\u001b[49m\u001b[38;5;241;43m=\u001b[39;49m\u001b[38;5;28;43mself\u001b[39;49m\u001b[38;5;241;43m.\u001b[39;49m\u001b[43mis_local\u001b[49m\u001b[43m)\u001b[49m\n\u001b[1;32m    116\u001b[0m     \u001b[38;5;28mself\u001b[39m\u001b[38;5;241m.\u001b[39mupdate(res)\n\u001b[1;32m    118\u001b[0m     \u001b[38;5;28;01mif\u001b[39;00m \u001b[38;5;28mhasattr\u001b[39m(res, \u001b[38;5;124m\"\u001b[39m\u001b[38;5;124mndim\u001b[39m\u001b[38;5;124m\"\u001b[39m) \u001b[38;5;129;01mand\u001b[39;00m res\u001b[38;5;241m.\u001b[39mndim \u001b[38;5;241m>\u001b[39m \u001b[38;5;241m2\u001b[39m:\n",
      "File \u001b[0;32m~/miniforge3/envs/lora/lib/python3.10/site-packages/pandas/core/computation/scope.py:211\u001b[0m, in \u001b[0;36mScope.resolve\u001b[0;34m(self, key, is_local)\u001b[0m\n\u001b[1;32m    207\u001b[0m \u001b[38;5;28;01mexcept\u001b[39;00m \u001b[38;5;167;01mKeyError\u001b[39;00m \u001b[38;5;28;01mas\u001b[39;00m err:\n\u001b[1;32m    208\u001b[0m     \u001b[38;5;66;03m# runtime import because ops imports from scope\u001b[39;00m\n\u001b[1;32m    209\u001b[0m     \u001b[38;5;28;01mfrom\u001b[39;00m \u001b[38;5;21;01mpandas\u001b[39;00m\u001b[38;5;21;01m.\u001b[39;00m\u001b[38;5;21;01mcore\u001b[39;00m\u001b[38;5;21;01m.\u001b[39;00m\u001b[38;5;21;01mcomputation\u001b[39;00m\u001b[38;5;21;01m.\u001b[39;00m\u001b[38;5;21;01mops\u001b[39;00m \u001b[38;5;28;01mimport\u001b[39;00m UndefinedVariableError\n\u001b[0;32m--> 211\u001b[0m     \u001b[38;5;28;01mraise\u001b[39;00m UndefinedVariableError(key, is_local) \u001b[38;5;28;01mfrom\u001b[39;00m \u001b[38;5;21;01merr\u001b[39;00m\n",
      "\u001b[0;31mUndefinedVariableError\u001b[0m: name 'gps' is not defined"
     ]
    }
   ],
   "source": [
    "df.query(\"gps.rx_metadata.notna()\")"
   ]
  },
  {
   "cell_type": "markdown",
   "id": "53f75248-bf76-4eb4-a4df-a254f92dd14a",
   "metadata": {},
   "source": [
    "## Process json columns"
   ]
  },
  {
   "cell_type": "code",
   "execution_count": 7,
   "id": "f12c2285-d582-4763-9a7d-fff5ec4c0615",
   "metadata": {},
   "outputs": [],
   "source": [
    "# Rename columns\n",
    "links.rename(columns={\"received_at\": \"received_at_meta\"}, inplace=True)\n",
    "\n",
    "# Normalize json columns\n",
    "to_normalize = [\"end_device_ids\", \"uplink_message\"]\n",
    "\n",
    "for col in to_normalize:\n",
    "    temp = pd.json_normalize(links[col])\n",
    "    links = links.join(temp)\n",
    "\n",
    "links = links.drop(columns=to_normalize)\n",
    "    \n",
    "# Get uplink_id column\n",
    "links = links.rename_axis('uplink_id').reset_index()"
   ]
  },
  {
   "cell_type": "code",
   "execution_count": 8,
   "id": "eb48ae61-17ed-4a1d-b3c3-bf68c21b6770",
   "metadata": {},
   "outputs": [],
   "source": [
    "# Explode dataframe on \"rx_metadata\"\n",
    "def to_list(x):\n",
    "    if isinstance(x, dict):\n",
    "        return [x]\n",
    "    return x\n",
    "    \n",
    "links['rx_metadata'] = links['rx_metadata'].apply(to_list)\n",
    "links = links.explode('rx_metadata')\n",
    "\n",
    "# Get link_id column\n",
    "links = links.reset_index().rename_axis('link_id').reset_index()\n",
    "links = links.drop(columns='index')"
   ]
  },
  {
   "cell_type": "code",
   "execution_count": 9,
   "id": "83e54002-2bd3-4815-ae1c-deeef450069d",
   "metadata": {},
   "outputs": [],
   "source": [
    "# (json) Normalize rx_metadata\n",
    "right = pd.json_normalize(links['rx_metadata'], max_level=1)\n",
    "links = links.join(right)\n",
    "links = links.drop(columns=['rx_metadata'])"
   ]
  },
  {
   "cell_type": "code",
   "execution_count": 10,
   "id": "6bb0ccfc-80bd-479d-997a-f033b1e0fe56",
   "metadata": {},
   "outputs": [],
   "source": [
    "# Rename columns\n",
    "new_names = {'decoded_payload.altitude': 'altitude_payload',\n",
    "             'decoded_payload.bat': 'bat_payload',\n",
    "             'decoded_payload.hdop': 'hdop_payload',\n",
    "             'decoded_payload.latitude': 'latitude_payload',\n",
    "             'decoded_payload.longitude': 'longitude_payload',\n",
    "             'settings.data_rate.lora.bandwidth': 'bandwidth',\n",
    "             'settings.data_rate.lora.spreading_factor': 'spreading_factor',\n",
    "             'settings.coding_rate': 'coding_rade',\n",
    "             'settings.frequency': 'frequency',\n",
    "             'settings.timestamp': 'timestamp',\n",
    "             'settings.time': 'time',\n",
    "             'locations.frm-payload.latitude':'latitude_frm_payload',\n",
    "             'locations.frm-payload.longitude':'longitude_frm_payload',\n",
    "             'locations.frm-payload.altitude': 'altitude_frm_payload',\n",
    "             'gateway_ids.gateway_id': 'gateway_id',\n",
    "             'gateway_ids.eui': 'gateway_eui',\n",
    "             'location.latitude': 'latitude_rx',\n",
    "             'location.longitude': 'longitude_rx',\n",
    "             'location.altitude': 'altitude_rx',\n",
    "            }\n",
    "\n",
    "links = links.rename(columns=new_names)"
   ]
  },
  {
   "cell_type": "code",
   "execution_count": 11,
   "id": "ca309770-164b-4032-b09c-8daead95daa5",
   "metadata": {},
   "outputs": [
    {
     "name": "stdout",
     "output_type": "stream",
     "text": [
      "'payload' and 'frm_payload' lat/lons match for 97.38% of the observations.\n"
     ]
    }
   ],
   "source": [
    "# Check if coords match for various sources\n",
    "cond1 = (links['latitude_payload'] == links['latitude_frm_payload'])\n",
    "cond2 = (links['longitude_payload'] == links['longitude_frm_payload'])\n",
    "\n",
    "n_obs = links.shape[0]\n",
    "n_cnd = links[cond1 & cond2].shape[0]\n",
    "print(\"'payload' and 'frm_payload' lat/lons match for %.2f%% of the observations.\" % (100*n_cnd/n_obs))"
   ]
  },
  {
   "cell_type": "code",
   "execution_count": 12,
   "id": "dadd474a-3da3-4a28-a61c-b9adb3bc3bad",
   "metadata": {},
   "outputs": [],
   "source": [
    "# Clean tx geodata by using the best available source\n",
    "for var in ['altitude', 'latitude', 'longitude']:\n",
    "    \n",
    "    # Use \"*_frm_payload\" when available, else \"*_payload\"\n",
    "    links.loc[links[var+'_frm_payload'].isna(), var+'_frm_payload'] = links[var+'_payload']\n",
    "    \n",
    "    # Drop and rename\n",
    "    links = links.drop(columns=[var+'_payload'])\n",
    "    links = links.rename(columns={var+'_frm_payload': var+\"_tx\"})"
   ]
  },
  {
   "cell_type": "code",
   "execution_count": 13,
   "id": "27ccf3b1-9702-4f50-a226-4f56f5b4e27f",
   "metadata": {},
   "outputs": [],
   "source": [
    "# Retain only a subset of pretinent columns\n",
    "retain_cols = ['link_id', 'uplink_id', 'device_id', 'dev_addr', 'received_at',\n",
    "               'consumed_airtime', 'bandwidth', 'spreading_factor', 'coding_rade',\n",
    "               'frequency', 'timestamp', 'latitude_tx', 'longitude_tx', 'altitude_tx',\n",
    "               'timestamp', 'rssi', 'channel_rssi', 'snr', 'gateway_id', 'gateway_eui',\n",
    "               'latitude_rx', 'longitude_rx', 'altitude_rx']\n",
    "\n",
    "links = links[retain_cols].copy()"
   ]
  },
  {
   "cell_type": "markdown",
   "id": "e3ae4640-38d5-4349-b4a7-eae6745efdce",
   "metadata": {},
   "source": [
    "## Data cleaning"
   ]
  },
  {
   "cell_type": "code",
   "execution_count": 14,
   "id": "9e52a89a-63ab-4357-a77f-016a88775524",
   "metadata": {},
   "outputs": [
    {
     "name": "stdout",
     "output_type": "stream",
     "text": [
      "Retained 1584 rows, dropped 94.\n"
     ]
    }
   ],
   "source": [
    "# Drop links with no rx_longitudes\n",
    "\n",
    "nOld = links.shape[0]\n",
    "\n",
    "links = links.drop(links.query(\"longitude_rx.isna()\").index)\n",
    "links = links.drop(links.query(\"altitude_rx.isna()\").index)\n",
    "\n",
    "nNew = links.shape[0]\n",
    "\n",
    "print(f\"Retained {nNew} rows, dropped {nOld - nNew}.\")"
   ]
  },
  {
   "cell_type": "code",
   "execution_count": 15,
   "id": "bacb1db9-9292-47e6-af6f-317779e202c9",
   "metadata": {},
   "outputs": [
    {
     "name": "stdout",
     "output_type": "stream",
     "text": [
      "All rows have latitude_rx-values\n",
      "All rows have longitude_rx-values\n",
      "All rows have altitude_rx-values\n",
      "All rows have latitude_tx-values\n",
      "All rows have longitude_tx-values\n",
      "Some rows are missing altitude_tx-values\n"
     ]
    }
   ],
   "source": [
    "# Check whether all links have the necessary information\n",
    "cols = ['latitude_rx',\n",
    "        'longitude_rx',\n",
    "        'altitude_rx',\n",
    "        'latitude_tx',\n",
    "        'longitude_tx',\n",
    "        'altitude_tx']\n",
    "\n",
    "n_total = links.shape[0]\n",
    "\n",
    "for col in cols:\n",
    "    if np.all(links[col].notna()):\n",
    "        print(f\"All rows have {col}-values\")\n",
    "    else:\n",
    "        print(f\"Some rows are missing {col}-values\")"
   ]
  },
  {
   "cell_type": "markdown",
   "id": "7822e49c-0ee6-4e16-abf2-c076f8851b4c",
   "metadata": {},
   "source": [
    "## Expanding data set\n",
    "\n",
    "The current data only consits of successfully transmitted links.\n",
    "\n",
    "We are also interested in links that could have taken place but did not."
   ]
  },
  {
   "cell_type": "code",
   "execution_count": 16,
   "id": "e7cf8a9d-5e20-46a9-b81e-d40dd54b6799",
   "metadata": {},
   "outputs": [],
   "source": [
    "# uplink dataframe\n",
    "uplinks = pd.DataFrame({'uplink_id':links['uplink_id'].unique()})\n",
    "\n",
    "# get all GWs as list-like\n",
    "gws = list(links['gateway_id'].unique())\n",
    "\n",
    "# get gateway column that accepts lists\n",
    "uplinks['gateway_id'] = [gws] * len(uplinks.index)\n",
    "\n",
    "uplinks = uplinks.explode('gateway_id').reset_index(drop=True)\n",
    "\n",
    "# Set multi-index\n",
    "uplinks = uplinks.set_index(['uplink_id', 'gateway_id'])\n",
    "\n",
    "# Join on right index\n",
    "uplinks = uplinks.join(links.set_index(['uplink_id', 'gateway_id']), how='outer').reset_index()"
   ]
  },
  {
   "cell_type": "code",
   "execution_count": 17,
   "id": "1ea75a8f-78bc-4e54-b04f-38b5f17f346b",
   "metadata": {},
   "outputs": [],
   "source": [
    "# Set device data into large dataset\n",
    "dev_cols = ['device_id', 'dev_addr', 'consumed_airtime',\n",
    "            'bandwidth', 'spreading_factor', 'coding_rade',\n",
    "            'frequency', 'latitude_tx', 'longitude_tx', 'altitude_tx' ]\n",
    "\n",
    "for col in dev_cols:\n",
    "    colmap = links.groupby('uplink_id')[col].first().to_dict()\n",
    "    uplinks[col] = uplinks['uplink_id'].map(colmap)"
   ]
  },
  {
   "cell_type": "code",
   "execution_count": 18,
   "id": "5ab552c2-c45b-4ece-bcf9-f9908503a769",
   "metadata": {},
   "outputs": [],
   "source": [
    "# Set gateway data into large dataset\n",
    "dev_cols = ['gateway_eui', 'latitude_rx',\n",
    "            'longitude_rx', 'altitude_rx']\n",
    "\n",
    "for col in dev_cols:\n",
    "    colmap = links.groupby('gateway_id')[col].first().to_dict()\n",
    "    uplinks[col] = uplinks['gateway_id'].map(colmap)"
   ]
  },
  {
   "cell_type": "code",
   "execution_count": 19,
   "id": "bd2e8771-b9f1-476c-8237-9ff2b6e2fed0",
   "metadata": {},
   "outputs": [],
   "source": [
    "# Make success variable\n",
    "uplinks['success'] = 0\n",
    "uplinks.loc[uplinks['rssi'].notna(), 'success'] = 1\n",
    "\n",
    "# Drop link id\n",
    "uplinks = uplinks.drop(columns=['link_id'])"
   ]
  },
  {
   "cell_type": "code",
   "execution_count": 20,
   "id": "94283b02-c84e-455b-9ced-fc2dac2ef414",
   "metadata": {},
   "outputs": [
    {
     "data": {
      "text/plain": [
       "(13829, 25)"
      ]
     },
     "execution_count": 20,
     "metadata": {},
     "output_type": "execute_result"
    }
   ],
   "source": [
    "uplinks.shape"
   ]
  },
  {
   "cell_type": "code",
   "execution_count": null,
   "id": "4ed28122-416d-4527-be0b-a605810f7e68",
   "metadata": {},
   "outputs": [],
   "source": [
    "# save data \n",
    "#uplinks.to_csv('ithaca_uplinks.csv', index=False)"
   ]
  }
 ],
 "metadata": {
  "kernelspec": {
   "display_name": "Python (lora)",
   "language": "python",
   "name": "lora"
  },
  "language_info": {
   "codemirror_mode": {
    "name": "ipython",
    "version": 3
   },
   "file_extension": ".py",
   "mimetype": "text/x-python",
   "name": "python",
   "nbconvert_exporter": "python",
   "pygments_lexer": "ipython3",
   "version": "3.10.4"
  }
 },
 "nbformat": 4,
 "nbformat_minor": 5
}
